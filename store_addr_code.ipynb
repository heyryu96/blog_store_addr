{
 "cells": [
  {
   "cell_type": "markdown",
   "id": "b3d608cb-3122-4c63-b335-4ccc36cad1c8",
   "metadata": {},
   "source": [
    "## 네이버 지도 크롤링"
   ]
  },
  {
   "cell_type": "code",
   "execution_count": 1,
   "id": "ed058736-a9d4-4d9b-ac4d-04d51ce1627d",
   "metadata": {},
   "outputs": [],
   "source": [
    "# 라이브러리 임포트\n",
    "from selenium import webdriver\n",
    "from bs4 import BeautifulSoup\n",
    "import pandas as pd"
   ]
  },
  {
   "cell_type": "code",
   "execution_count": 4,
   "id": "903f78e0-b4b4-4489-98c4-5e78e152e8e7",
   "metadata": {},
   "outputs": [],
   "source": [
    "# webdriver 실행 후 네이버 지도 화면 접속\n",
    "driver = webdriver.Chrome()\n",
    "url = 'https://map.naver.com/p/entry/place/1674193099?lng=126.7609618&lat=37.5033168&placePath=%2Fhome&entry=plt&searchType=place&c=15.00,0,0,0,dh'\n",
    "driver.get(url)"
   ]
  },
  {
   "cell_type": "code",
   "execution_count": 5,
   "id": "36c05eaf-e775-4e9e-9075-d2fa52f6bfff",
   "metadata": {},
   "outputs": [],
   "source": [
    "# BeautifulSoup으로 HTML 파서 만들기\n",
    "html = driver.page_source\n",
    "soup = BeautifulSoup(html, 'html.parser')"
   ]
  },
  {
   "cell_type": "code",
   "execution_count": 36,
   "id": "56f5b4cc-d860-4c21-a1d6-9a025acd0057",
   "metadata": {},
   "outputs": [
    {
     "data": {
      "text/plain": [
       "[]"
      ]
     },
     "execution_count": 36,
     "metadata": {},
     "output_type": "execute_result"
    }
   ],
   "source": [
    "# 매장 이름 가져오기\n",
    "store_name = soup.select('#_title > div > span.GHAhO')\n",
    "store_name"
   ]
  }
 ],
 "metadata": {
  "kernelspec": {
   "display_name": "Python 3 (ipykernel)",
   "language": "python",
   "name": "python3"
  },
  "language_info": {
   "codemirror_mode": {
    "name": "ipython",
    "version": 3
   },
   "file_extension": ".py",
   "mimetype": "text/x-python",
   "name": "python",
   "nbconvert_exporter": "python",
   "pygments_lexer": "ipython3",
   "version": "3.12.7"
  }
 },
 "nbformat": 4,
 "nbformat_minor": 5
}
